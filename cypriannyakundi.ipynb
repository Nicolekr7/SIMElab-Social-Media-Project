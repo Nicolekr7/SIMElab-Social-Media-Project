{
 "cells": [
  {
   "cell_type": "code",
   "execution_count": 2,
   "id": "5680d70a",
   "metadata": {},
   "outputs": [
    {
     "name": "stdout",
     "output_type": "stream",
     "text": [
      "Data saved to Excel successfully!\n"
     ]
    }
   ],
   "source": [
    "#Cyprian Nyakundi\n",
    "import pandas as pd\n",
    "import requests\n",
    "from bs4 import BeautifulSoup\n",
    "\n",
    "url = \"https://cnyakundi.com/\"\n",
    "response = requests.get(url)\n",
    "soup = BeautifulSoup(response.content, 'html.parser')\n",
    "\n",
    "# Scraping data and storing it in a DataFrame\n",
    "# Here you need to modify according to the specific data you want to scrape\n",
    "# For demonstration purposes, let's say we want to scrape all the links on the page\n",
    "links = [link.get('href') for link in soup.find_all('a')]\n",
    "\n",
    "# Create a DataFrame\n",
    "df = pd.DataFrame({'Links': links})\n",
    "\n",
    "# Specify the file path\n",
    "file_path = r\"C:\\Users\\Admin\\Desktop\\SIMElab_Data\\cyprian.nyakundi.xlsx\"\n",
    "\n",
    "# Save DataFrame to Excel\n",
    "df.to_excel(file_path, index=False)\n",
    "\n",
    "print(\"Data saved to Excel successfully!\")"
   ]
  },
  {
   "cell_type": "code",
   "execution_count": null,
   "id": "8371e0e9",
   "metadata": {},
   "outputs": [],
   "source": []
  }
 ],
 "metadata": {
  "kernelspec": {
   "display_name": "Python 3 (ipykernel)",
   "language": "python",
   "name": "python3"
  },
  "language_info": {
   "codemirror_mode": {
    "name": "ipython",
    "version": 3
   },
   "file_extension": ".py",
   "mimetype": "text/x-python",
   "name": "python",
   "nbconvert_exporter": "python",
   "pygments_lexer": "ipython3",
   "version": "3.11.5"
  }
 },
 "nbformat": 4,
 "nbformat_minor": 5
}
